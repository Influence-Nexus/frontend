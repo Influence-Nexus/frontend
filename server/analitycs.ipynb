{
 "cells": [
  {
   "cell_type": "code",
   "execution_count": 25,
   "metadata": {},
   "outputs": [
    {
     "name": "stdout",
     "output_type": "stream",
     "text": [
      "Row 1 length: 27, Filtered data length: 24\n",
      "Row 2 length: 27, Filtered data length: 24\n",
      "Row 3 length: 27, Filtered data length: 24\n",
      "Row 4 length: 27, Filtered data length: 24\n",
      "Row 5 length: 27, Filtered data length: 24\n",
      "Row 6 length: 27, Filtered data length: 24\n",
      "Row 7 length: 27, Filtered data length: 24\n",
      "Row 8 length: 27, Filtered data length: 24\n",
      "Row 9 length: 27, Filtered data length: 24\n",
      "Row 10 length: 27, Filtered data length: 24\n",
      "Row 11 length: 27, Filtered data length: 24\n",
      "Row 12 length: 27, Filtered data length: 24\n",
      "Row 13 length: 27, Filtered data length: 24\n",
      "Row 14 length: 27, Filtered data length: 24\n",
      "Row 15 length: 27, Filtered data length: 24\n",
      "Row 16 length: 27, Filtered data length: 24\n",
      "Row 17 length: 27, Filtered data length: 24\n",
      "Row 18 length: 27, Filtered data length: 24\n",
      "Row 19 length: 27, Filtered data length: 24\n",
      "Row 20 length: 27, Filtered data length: 24\n",
      "Row 21 length: 27, Filtered data length: 24\n",
      "Row 22 length: 27, Filtered data length: 24\n",
      "Row 23 length: 27, Filtered data length: 24\n",
      "Row 24 length: 25, Filtered data length: 24\n",
      "Row 24 data: capability to depend against speculative investment\t0.00\t0.00\t0.00\t0.00\t0.00\t0.00\t0.00\t0.00\t0.00\t0.00\t0.00\t0.00\t0.00\t0.00\t0.00\t0.00\t0.00\t0.00\t0.00\t0.00\t0.00\t0.00\t0.00\t0.00\n"
     ]
    }
   ],
   "source": [
    "import numpy as np\n",
    "import pandas as pd\n",
    "from sklearn.cluster import SpectralClustering\n",
    "\n",
    "# Чтение данных из текстового файла\n",
    "with open('static/models/Malaysian Presidential Policy.txt', 'r') as file:\n",
    "    data = file.read()\n",
    "\n",
    "# Разделение данных на строки и столбцы\n",
    "rows = data.strip().split('\\n')\n",
    "headers = rows[0].split('\\t')\n",
    "\n",
    "# Преобразование данных в матрицу\n",
    "matrix = []\n",
    "for i, row in enumerate(rows[1:], 1):\n",
    "    row_data = row.split('\\t')\n",
    "    # Фильтрация пустых строк и преобразование данных в числа\n",
    "    filtered_data = [item for item in row_data[1:] if item.strip()]\n",
    "    if filtered_data:\n",
    "        try:\n",
    "            matrix.append(list(map(float, filtered_data)))\n",
    "        except ValueError:\n",
    "            print(f\"Error in row {i}: {row}\")\n",
    "\n",
    "    # Вывод длины строки и количества данных в ней\n",
    "    print(f\"Row {i} length: {len(row_data)}, Filtered data length: {len(filtered_data)}\")\n",
    "\n",
    "print(f\"Row 24 data: {rows[24]}\")"
   ]
  },
  {
   "cell_type": "code",
   "execution_count": 28,
   "metadata": {},
   "outputs": [
    {
     "ename": "ValueError",
     "evalue": "Length of headers (25) does not match length of matrix columns (24).",
     "output_type": "error",
     "traceback": [
      "\u001b[1;31m---------------------------------------------------------------------------\u001b[0m",
      "\u001b[1;31mValueError\u001b[0m                                Traceback (most recent call last)",
      "Cell \u001b[1;32mIn[28], line 7\u001b[0m\n\u001b[0;32m      5\u001b[0m \u001b[38;5;66;03m# Проверка на соответствие длин заголовков и матрицы данных\u001b[39;00m\n\u001b[0;32m      6\u001b[0m \u001b[38;5;28;01mif\u001b[39;00m \u001b[38;5;28mlen\u001b[39m(headers[\u001b[38;5;241m1\u001b[39m:]) \u001b[38;5;241m!=\u001b[39m \u001b[38;5;28mlen\u001b[39m(matrix[\u001b[38;5;241m0\u001b[39m]):\n\u001b[1;32m----> 7\u001b[0m     \u001b[38;5;28;01mraise\u001b[39;00m \u001b[38;5;167;01mValueError\u001b[39;00m(\u001b[38;5;124mf\u001b[39m\u001b[38;5;124m\"\u001b[39m\u001b[38;5;124mLength of headers (\u001b[39m\u001b[38;5;132;01m{\u001b[39;00m\u001b[38;5;28mlen\u001b[39m(headers[\u001b[38;5;241m1\u001b[39m:])\u001b[38;5;132;01m}\u001b[39;00m\u001b[38;5;124m) does not match length of matrix columns (\u001b[39m\u001b[38;5;132;01m{\u001b[39;00m\u001b[38;5;28mlen\u001b[39m(matrix[\u001b[38;5;241m0\u001b[39m])\u001b[38;5;132;01m}\u001b[39;00m\u001b[38;5;124m).\u001b[39m\u001b[38;5;124m\"\u001b[39m)\n\u001b[0;32m      9\u001b[0m \u001b[38;5;28mprint\u001b[39m(\u001b[38;5;124mf\u001b[39m\u001b[38;5;124m\"\u001b[39m\u001b[38;5;124mHeaders length: \u001b[39m\u001b[38;5;132;01m{\u001b[39;00m\u001b[38;5;28mlen\u001b[39m(headers[\u001b[38;5;241m1\u001b[39m:])\u001b[38;5;132;01m}\u001b[39;00m\u001b[38;5;124m\"\u001b[39m)\n\u001b[0;32m     10\u001b[0m \u001b[38;5;28mprint\u001b[39m(\u001b[38;5;124mf\u001b[39m\u001b[38;5;124m\"\u001b[39m\u001b[38;5;124mMatrix columns length: \u001b[39m\u001b[38;5;132;01m{\u001b[39;00m\u001b[38;5;28mlen\u001b[39m(matrix[\u001b[38;5;241m0\u001b[39m])\u001b[38;5;132;01m}\u001b[39;00m\u001b[38;5;124m\"\u001b[39m)\n",
      "\u001b[1;31mValueError\u001b[0m: Length of headers (25) does not match length of matrix columns (24)."
     ]
    }
   ],
   "source": [
    "# Добавление отсутствующего столбца в строку с индексом 23\n",
    "missing_columns = ['0.00'] * (len(headers) - len(matrix[23]))\n",
    "matrix[23].extend(missing_columns)\n",
    "\n",
    "# Проверка на соответствие длин заголовков и матрицы данных\n",
    "if len(headers[1:]) != len(matrix[0]):\n",
    "    raise ValueError(f\"Length of headers ({len(headers[1:])}) does not match length of matrix columns ({len(matrix[0])}).\")\n",
    "\n",
    "print(f\"Headers length: {len(headers[1:])}\")\n",
    "print(f\"Matrix columns length: {len(matrix[0])}\")\n",
    "\n",
    "# Преобразование данных в DataFrame\n",
    "data_dict = {header: values for header, values in zip(headers[1:], zip(*matrix))}\n",
    "data_df = pd.DataFrame(data_dict, index=headers[1:])\n",
    "\n",
    "# Преобразование данных в матрицу\n",
    "adjacency_matrix = np.where(data_df.values.astype(float) > 0, 1, 0)\n",
    "\n",
    "# Кластеризация данных с использованием SpectralClustering\n",
    "n_clusters = 3  # Количество кластеров\n",
    "spectral = SpectralClustering(n_clusters=n_clusters, affinity='precomputed', random_state=42)\n",
    "clusters = spectral.fit_predict(adjacency_matrix)\n",
    "\n",
    "# Вывод результата кластеризации\n",
    "result = pd.DataFrame({'Node': data_df.index, 'Cluster': clusters})\n",
    "print(result)\n"
   ]
  }
 ],
 "metadata": {
  "kernelspec": {
   "display_name": "Python 3",
   "language": "python",
   "name": "python3"
  },
  "language_info": {
   "codemirror_mode": {
    "name": "ipython",
    "version": 3
   },
   "file_extension": ".py",
   "mimetype": "text/x-python",
   "name": "python",
   "nbconvert_exporter": "python",
   "pygments_lexer": "ipython3",
   "version": "3.10.6"
  }
 },
 "nbformat": 4,
 "nbformat_minor": 2
}
